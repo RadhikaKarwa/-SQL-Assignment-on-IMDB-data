{
  "nbformat": 4,
  "nbformat_minor": 0,
  "metadata": {
    "colab": {
      "name": "SQL_sample_queries(Radhika Rathi).ipynb",
      "provenance": [],
      "collapsed_sections": []
    },
    "kernelspec": {
      "display_name": "Python 3",
      "language": "python",
      "name": "python3"
    },
    "language_info": {
      "codemirror_mode": {
        "name": "ipython",
        "version": 3
      },
      "file_extension": ".py",
      "mimetype": "text/x-python",
      "name": "python",
      "nbconvert_exporter": "python",
      "pygments_lexer": "ipython3",
      "version": "3.6.2"
    }
  },
  "cells": [
    {
      "cell_type": "markdown",
      "metadata": {
        "id": "hmzI5oZ6E_Hp"
      },
      "source": [
        "# SQL Assignment"
      ]
    },
    {
      "cell_type": "code",
      "metadata": {
        "id": "wso5pGwnE_Ht"
      },
      "source": [
        "import pandas as pd\n",
        "import sqlite3\n",
        "\n",
        "from IPython.display import display, HTML"
      ],
      "execution_count": 1,
      "outputs": []
    },
    {
      "cell_type": "code",
      "metadata": {
        "id": "uMYMAPLm23sp"
      },
      "source": [
        "# Note that this is not the same db we have used in course videos, please download from this link\n",
        "# https://drive.google.com/file/d/1O-1-L1DdNxEK6O6nG2jS31MbrMh-OnXM/view?usp=sharing"
      ],
      "execution_count": 2,
      "outputs": []
    },
    {
      "cell_type": "code",
      "metadata": {
        "id": "xrUl9ShkE_H0"
      },
      "source": [
        "conn = sqlite3.connect(\"/content/Db-IMDB-Assignment.db\")"
      ],
      "execution_count": 3,
      "outputs": []
    },
    {
      "cell_type": "markdown",
      "metadata": {
        "id": "Z_ADQl2BE_H6"
      },
      "source": [
        "#### Overview of all tables"
      ]
    },
    {
      "cell_type": "code",
      "metadata": {
        "id": "7ZfheusYE_H7",
        "scrolled": true
      },
      "source": [
        "tables = pd.read_sql_query(\"SELECT NAME AS 'Table_Name' FROM sqlite_master WHERE type='table'\",conn)\n",
        "tables = tables[\"Table_Name\"].values.tolist()"
      ],
      "execution_count": 4,
      "outputs": []
    },
    {
      "cell_type": "code",
      "metadata": {
        "id": "f3zLh5FGE_H_",
        "scrolled": true,
        "colab": {
          "base_uri": "https://localhost:8080/",
          "height": 1000
        },
        "outputId": "dc895eff-5c60-410d-a42f-7e58d58b16ac"
      },
      "source": [
        "for table in tables:\n",
        "    query = \"PRAGMA TABLE_INFO({})\".format(table)\n",
        "    schema = pd.read_sql_query(query,conn)\n",
        "    print(\"Schema of\",table)\n",
        "    display(schema)\n",
        "    print(\"-\"*100)\n",
        "    print(\"\\n\")"
      ],
      "execution_count": 5,
      "outputs": [
        {
          "output_type": "stream",
          "name": "stdout",
          "text": [
            "Schema of Movie\n"
          ]
        },
        {
          "output_type": "display_data",
          "data": {
            "text/html": [
              "<div>\n",
              "<style scoped>\n",
              "    .dataframe tbody tr th:only-of-type {\n",
              "        vertical-align: middle;\n",
              "    }\n",
              "\n",
              "    .dataframe tbody tr th {\n",
              "        vertical-align: top;\n",
              "    }\n",
              "\n",
              "    .dataframe thead th {\n",
              "        text-align: right;\n",
              "    }\n",
              "</style>\n",
              "<table border=\"1\" class=\"dataframe\">\n",
              "  <thead>\n",
              "    <tr style=\"text-align: right;\">\n",
              "      <th></th>\n",
              "      <th>cid</th>\n",
              "      <th>name</th>\n",
              "      <th>type</th>\n",
              "      <th>notnull</th>\n",
              "      <th>dflt_value</th>\n",
              "      <th>pk</th>\n",
              "    </tr>\n",
              "  </thead>\n",
              "  <tbody>\n",
              "    <tr>\n",
              "      <th>0</th>\n",
              "      <td>0</td>\n",
              "      <td>index</td>\n",
              "      <td>INTEGER</td>\n",
              "      <td>0</td>\n",
              "      <td>None</td>\n",
              "      <td>0</td>\n",
              "    </tr>\n",
              "    <tr>\n",
              "      <th>1</th>\n",
              "      <td>1</td>\n",
              "      <td>MID</td>\n",
              "      <td>TEXT</td>\n",
              "      <td>0</td>\n",
              "      <td>None</td>\n",
              "      <td>0</td>\n",
              "    </tr>\n",
              "    <tr>\n",
              "      <th>2</th>\n",
              "      <td>2</td>\n",
              "      <td>title</td>\n",
              "      <td>TEXT</td>\n",
              "      <td>0</td>\n",
              "      <td>None</td>\n",
              "      <td>0</td>\n",
              "    </tr>\n",
              "    <tr>\n",
              "      <th>3</th>\n",
              "      <td>3</td>\n",
              "      <td>year</td>\n",
              "      <td>TEXT</td>\n",
              "      <td>0</td>\n",
              "      <td>None</td>\n",
              "      <td>0</td>\n",
              "    </tr>\n",
              "    <tr>\n",
              "      <th>4</th>\n",
              "      <td>4</td>\n",
              "      <td>rating</td>\n",
              "      <td>REAL</td>\n",
              "      <td>0</td>\n",
              "      <td>None</td>\n",
              "      <td>0</td>\n",
              "    </tr>\n",
              "    <tr>\n",
              "      <th>5</th>\n",
              "      <td>5</td>\n",
              "      <td>num_votes</td>\n",
              "      <td>INTEGER</td>\n",
              "      <td>0</td>\n",
              "      <td>None</td>\n",
              "      <td>0</td>\n",
              "    </tr>\n",
              "  </tbody>\n",
              "</table>\n",
              "</div>"
            ],
            "text/plain": [
              "   cid       name     type  notnull dflt_value  pk\n",
              "0    0      index  INTEGER        0       None   0\n",
              "1    1        MID     TEXT        0       None   0\n",
              "2    2      title     TEXT        0       None   0\n",
              "3    3       year     TEXT        0       None   0\n",
              "4    4     rating     REAL        0       None   0\n",
              "5    5  num_votes  INTEGER        0       None   0"
            ]
          },
          "metadata": {}
        },
        {
          "output_type": "stream",
          "name": "stdout",
          "text": [
            "----------------------------------------------------------------------------------------------------\n",
            "\n",
            "\n",
            "Schema of Genre\n"
          ]
        },
        {
          "output_type": "display_data",
          "data": {
            "text/html": [
              "<div>\n",
              "<style scoped>\n",
              "    .dataframe tbody tr th:only-of-type {\n",
              "        vertical-align: middle;\n",
              "    }\n",
              "\n",
              "    .dataframe tbody tr th {\n",
              "        vertical-align: top;\n",
              "    }\n",
              "\n",
              "    .dataframe thead th {\n",
              "        text-align: right;\n",
              "    }\n",
              "</style>\n",
              "<table border=\"1\" class=\"dataframe\">\n",
              "  <thead>\n",
              "    <tr style=\"text-align: right;\">\n",
              "      <th></th>\n",
              "      <th>cid</th>\n",
              "      <th>name</th>\n",
              "      <th>type</th>\n",
              "      <th>notnull</th>\n",
              "      <th>dflt_value</th>\n",
              "      <th>pk</th>\n",
              "    </tr>\n",
              "  </thead>\n",
              "  <tbody>\n",
              "    <tr>\n",
              "      <th>0</th>\n",
              "      <td>0</td>\n",
              "      <td>index</td>\n",
              "      <td>INTEGER</td>\n",
              "      <td>0</td>\n",
              "      <td>None</td>\n",
              "      <td>0</td>\n",
              "    </tr>\n",
              "    <tr>\n",
              "      <th>1</th>\n",
              "      <td>1</td>\n",
              "      <td>Name</td>\n",
              "      <td>TEXT</td>\n",
              "      <td>0</td>\n",
              "      <td>None</td>\n",
              "      <td>0</td>\n",
              "    </tr>\n",
              "    <tr>\n",
              "      <th>2</th>\n",
              "      <td>2</td>\n",
              "      <td>GID</td>\n",
              "      <td>INTEGER</td>\n",
              "      <td>0</td>\n",
              "      <td>None</td>\n",
              "      <td>0</td>\n",
              "    </tr>\n",
              "  </tbody>\n",
              "</table>\n",
              "</div>"
            ],
            "text/plain": [
              "   cid   name     type  notnull dflt_value  pk\n",
              "0    0  index  INTEGER        0       None   0\n",
              "1    1   Name     TEXT        0       None   0\n",
              "2    2    GID  INTEGER        0       None   0"
            ]
          },
          "metadata": {}
        },
        {
          "output_type": "stream",
          "name": "stdout",
          "text": [
            "----------------------------------------------------------------------------------------------------\n",
            "\n",
            "\n",
            "Schema of Language\n"
          ]
        },
        {
          "output_type": "display_data",
          "data": {
            "text/html": [
              "<div>\n",
              "<style scoped>\n",
              "    .dataframe tbody tr th:only-of-type {\n",
              "        vertical-align: middle;\n",
              "    }\n",
              "\n",
              "    .dataframe tbody tr th {\n",
              "        vertical-align: top;\n",
              "    }\n",
              "\n",
              "    .dataframe thead th {\n",
              "        text-align: right;\n",
              "    }\n",
              "</style>\n",
              "<table border=\"1\" class=\"dataframe\">\n",
              "  <thead>\n",
              "    <tr style=\"text-align: right;\">\n",
              "      <th></th>\n",
              "      <th>cid</th>\n",
              "      <th>name</th>\n",
              "      <th>type</th>\n",
              "      <th>notnull</th>\n",
              "      <th>dflt_value</th>\n",
              "      <th>pk</th>\n",
              "    </tr>\n",
              "  </thead>\n",
              "  <tbody>\n",
              "    <tr>\n",
              "      <th>0</th>\n",
              "      <td>0</td>\n",
              "      <td>index</td>\n",
              "      <td>INTEGER</td>\n",
              "      <td>0</td>\n",
              "      <td>None</td>\n",
              "      <td>0</td>\n",
              "    </tr>\n",
              "    <tr>\n",
              "      <th>1</th>\n",
              "      <td>1</td>\n",
              "      <td>Name</td>\n",
              "      <td>TEXT</td>\n",
              "      <td>0</td>\n",
              "      <td>None</td>\n",
              "      <td>0</td>\n",
              "    </tr>\n",
              "    <tr>\n",
              "      <th>2</th>\n",
              "      <td>2</td>\n",
              "      <td>LAID</td>\n",
              "      <td>INTEGER</td>\n",
              "      <td>0</td>\n",
              "      <td>None</td>\n",
              "      <td>0</td>\n",
              "    </tr>\n",
              "  </tbody>\n",
              "</table>\n",
              "</div>"
            ],
            "text/plain": [
              "   cid   name     type  notnull dflt_value  pk\n",
              "0    0  index  INTEGER        0       None   0\n",
              "1    1   Name     TEXT        0       None   0\n",
              "2    2   LAID  INTEGER        0       None   0"
            ]
          },
          "metadata": {}
        },
        {
          "output_type": "stream",
          "name": "stdout",
          "text": [
            "----------------------------------------------------------------------------------------------------\n",
            "\n",
            "\n",
            "Schema of Country\n"
          ]
        },
        {
          "output_type": "display_data",
          "data": {
            "text/html": [
              "<div>\n",
              "<style scoped>\n",
              "    .dataframe tbody tr th:only-of-type {\n",
              "        vertical-align: middle;\n",
              "    }\n",
              "\n",
              "    .dataframe tbody tr th {\n",
              "        vertical-align: top;\n",
              "    }\n",
              "\n",
              "    .dataframe thead th {\n",
              "        text-align: right;\n",
              "    }\n",
              "</style>\n",
              "<table border=\"1\" class=\"dataframe\">\n",
              "  <thead>\n",
              "    <tr style=\"text-align: right;\">\n",
              "      <th></th>\n",
              "      <th>cid</th>\n",
              "      <th>name</th>\n",
              "      <th>type</th>\n",
              "      <th>notnull</th>\n",
              "      <th>dflt_value</th>\n",
              "      <th>pk</th>\n",
              "    </tr>\n",
              "  </thead>\n",
              "  <tbody>\n",
              "    <tr>\n",
              "      <th>0</th>\n",
              "      <td>0</td>\n",
              "      <td>index</td>\n",
              "      <td>INTEGER</td>\n",
              "      <td>0</td>\n",
              "      <td>None</td>\n",
              "      <td>0</td>\n",
              "    </tr>\n",
              "    <tr>\n",
              "      <th>1</th>\n",
              "      <td>1</td>\n",
              "      <td>Name</td>\n",
              "      <td>TEXT</td>\n",
              "      <td>0</td>\n",
              "      <td>None</td>\n",
              "      <td>0</td>\n",
              "    </tr>\n",
              "    <tr>\n",
              "      <th>2</th>\n",
              "      <td>2</td>\n",
              "      <td>CID</td>\n",
              "      <td>INTEGER</td>\n",
              "      <td>0</td>\n",
              "      <td>None</td>\n",
              "      <td>0</td>\n",
              "    </tr>\n",
              "  </tbody>\n",
              "</table>\n",
              "</div>"
            ],
            "text/plain": [
              "   cid   name     type  notnull dflt_value  pk\n",
              "0    0  index  INTEGER        0       None   0\n",
              "1    1   Name     TEXT        0       None   0\n",
              "2    2    CID  INTEGER        0       None   0"
            ]
          },
          "metadata": {}
        },
        {
          "output_type": "stream",
          "name": "stdout",
          "text": [
            "----------------------------------------------------------------------------------------------------\n",
            "\n",
            "\n",
            "Schema of Location\n"
          ]
        },
        {
          "output_type": "display_data",
          "data": {
            "text/html": [
              "<div>\n",
              "<style scoped>\n",
              "    .dataframe tbody tr th:only-of-type {\n",
              "        vertical-align: middle;\n",
              "    }\n",
              "\n",
              "    .dataframe tbody tr th {\n",
              "        vertical-align: top;\n",
              "    }\n",
              "\n",
              "    .dataframe thead th {\n",
              "        text-align: right;\n",
              "    }\n",
              "</style>\n",
              "<table border=\"1\" class=\"dataframe\">\n",
              "  <thead>\n",
              "    <tr style=\"text-align: right;\">\n",
              "      <th></th>\n",
              "      <th>cid</th>\n",
              "      <th>name</th>\n",
              "      <th>type</th>\n",
              "      <th>notnull</th>\n",
              "      <th>dflt_value</th>\n",
              "      <th>pk</th>\n",
              "    </tr>\n",
              "  </thead>\n",
              "  <tbody>\n",
              "    <tr>\n",
              "      <th>0</th>\n",
              "      <td>0</td>\n",
              "      <td>index</td>\n",
              "      <td>INTEGER</td>\n",
              "      <td>0</td>\n",
              "      <td>None</td>\n",
              "      <td>0</td>\n",
              "    </tr>\n",
              "    <tr>\n",
              "      <th>1</th>\n",
              "      <td>1</td>\n",
              "      <td>Name</td>\n",
              "      <td>TEXT</td>\n",
              "      <td>0</td>\n",
              "      <td>None</td>\n",
              "      <td>0</td>\n",
              "    </tr>\n",
              "    <tr>\n",
              "      <th>2</th>\n",
              "      <td>2</td>\n",
              "      <td>LID</td>\n",
              "      <td>INTEGER</td>\n",
              "      <td>0</td>\n",
              "      <td>None</td>\n",
              "      <td>0</td>\n",
              "    </tr>\n",
              "  </tbody>\n",
              "</table>\n",
              "</div>"
            ],
            "text/plain": [
              "   cid   name     type  notnull dflt_value  pk\n",
              "0    0  index  INTEGER        0       None   0\n",
              "1    1   Name     TEXT        0       None   0\n",
              "2    2    LID  INTEGER        0       None   0"
            ]
          },
          "metadata": {}
        },
        {
          "output_type": "stream",
          "name": "stdout",
          "text": [
            "----------------------------------------------------------------------------------------------------\n",
            "\n",
            "\n",
            "Schema of M_Location\n"
          ]
        },
        {
          "output_type": "display_data",
          "data": {
            "text/html": [
              "<div>\n",
              "<style scoped>\n",
              "    .dataframe tbody tr th:only-of-type {\n",
              "        vertical-align: middle;\n",
              "    }\n",
              "\n",
              "    .dataframe tbody tr th {\n",
              "        vertical-align: top;\n",
              "    }\n",
              "\n",
              "    .dataframe thead th {\n",
              "        text-align: right;\n",
              "    }\n",
              "</style>\n",
              "<table border=\"1\" class=\"dataframe\">\n",
              "  <thead>\n",
              "    <tr style=\"text-align: right;\">\n",
              "      <th></th>\n",
              "      <th>cid</th>\n",
              "      <th>name</th>\n",
              "      <th>type</th>\n",
              "      <th>notnull</th>\n",
              "      <th>dflt_value</th>\n",
              "      <th>pk</th>\n",
              "    </tr>\n",
              "  </thead>\n",
              "  <tbody>\n",
              "    <tr>\n",
              "      <th>0</th>\n",
              "      <td>0</td>\n",
              "      <td>index</td>\n",
              "      <td>INTEGER</td>\n",
              "      <td>0</td>\n",
              "      <td>None</td>\n",
              "      <td>0</td>\n",
              "    </tr>\n",
              "    <tr>\n",
              "      <th>1</th>\n",
              "      <td>1</td>\n",
              "      <td>MID</td>\n",
              "      <td>TEXT</td>\n",
              "      <td>0</td>\n",
              "      <td>None</td>\n",
              "      <td>0</td>\n",
              "    </tr>\n",
              "    <tr>\n",
              "      <th>2</th>\n",
              "      <td>2</td>\n",
              "      <td>LID</td>\n",
              "      <td>REAL</td>\n",
              "      <td>0</td>\n",
              "      <td>None</td>\n",
              "      <td>0</td>\n",
              "    </tr>\n",
              "    <tr>\n",
              "      <th>3</th>\n",
              "      <td>3</td>\n",
              "      <td>ID</td>\n",
              "      <td>INTEGER</td>\n",
              "      <td>0</td>\n",
              "      <td>None</td>\n",
              "      <td>0</td>\n",
              "    </tr>\n",
              "  </tbody>\n",
              "</table>\n",
              "</div>"
            ],
            "text/plain": [
              "   cid   name     type  notnull dflt_value  pk\n",
              "0    0  index  INTEGER        0       None   0\n",
              "1    1    MID     TEXT        0       None   0\n",
              "2    2    LID     REAL        0       None   0\n",
              "3    3     ID  INTEGER        0       None   0"
            ]
          },
          "metadata": {}
        },
        {
          "output_type": "stream",
          "name": "stdout",
          "text": [
            "----------------------------------------------------------------------------------------------------\n",
            "\n",
            "\n",
            "Schema of M_Country\n"
          ]
        },
        {
          "output_type": "display_data",
          "data": {
            "text/html": [
              "<div>\n",
              "<style scoped>\n",
              "    .dataframe tbody tr th:only-of-type {\n",
              "        vertical-align: middle;\n",
              "    }\n",
              "\n",
              "    .dataframe tbody tr th {\n",
              "        vertical-align: top;\n",
              "    }\n",
              "\n",
              "    .dataframe thead th {\n",
              "        text-align: right;\n",
              "    }\n",
              "</style>\n",
              "<table border=\"1\" class=\"dataframe\">\n",
              "  <thead>\n",
              "    <tr style=\"text-align: right;\">\n",
              "      <th></th>\n",
              "      <th>cid</th>\n",
              "      <th>name</th>\n",
              "      <th>type</th>\n",
              "      <th>notnull</th>\n",
              "      <th>dflt_value</th>\n",
              "      <th>pk</th>\n",
              "    </tr>\n",
              "  </thead>\n",
              "  <tbody>\n",
              "    <tr>\n",
              "      <th>0</th>\n",
              "      <td>0</td>\n",
              "      <td>index</td>\n",
              "      <td>INTEGER</td>\n",
              "      <td>0</td>\n",
              "      <td>None</td>\n",
              "      <td>0</td>\n",
              "    </tr>\n",
              "    <tr>\n",
              "      <th>1</th>\n",
              "      <td>1</td>\n",
              "      <td>MID</td>\n",
              "      <td>TEXT</td>\n",
              "      <td>0</td>\n",
              "      <td>None</td>\n",
              "      <td>0</td>\n",
              "    </tr>\n",
              "    <tr>\n",
              "      <th>2</th>\n",
              "      <td>2</td>\n",
              "      <td>CID</td>\n",
              "      <td>REAL</td>\n",
              "      <td>0</td>\n",
              "      <td>None</td>\n",
              "      <td>0</td>\n",
              "    </tr>\n",
              "    <tr>\n",
              "      <th>3</th>\n",
              "      <td>3</td>\n",
              "      <td>ID</td>\n",
              "      <td>INTEGER</td>\n",
              "      <td>0</td>\n",
              "      <td>None</td>\n",
              "      <td>0</td>\n",
              "    </tr>\n",
              "  </tbody>\n",
              "</table>\n",
              "</div>"
            ],
            "text/plain": [
              "   cid   name     type  notnull dflt_value  pk\n",
              "0    0  index  INTEGER        0       None   0\n",
              "1    1    MID     TEXT        0       None   0\n",
              "2    2    CID     REAL        0       None   0\n",
              "3    3     ID  INTEGER        0       None   0"
            ]
          },
          "metadata": {}
        },
        {
          "output_type": "stream",
          "name": "stdout",
          "text": [
            "----------------------------------------------------------------------------------------------------\n",
            "\n",
            "\n",
            "Schema of M_Language\n"
          ]
        },
        {
          "output_type": "display_data",
          "data": {
            "text/html": [
              "<div>\n",
              "<style scoped>\n",
              "    .dataframe tbody tr th:only-of-type {\n",
              "        vertical-align: middle;\n",
              "    }\n",
              "\n",
              "    .dataframe tbody tr th {\n",
              "        vertical-align: top;\n",
              "    }\n",
              "\n",
              "    .dataframe thead th {\n",
              "        text-align: right;\n",
              "    }\n",
              "</style>\n",
              "<table border=\"1\" class=\"dataframe\">\n",
              "  <thead>\n",
              "    <tr style=\"text-align: right;\">\n",
              "      <th></th>\n",
              "      <th>cid</th>\n",
              "      <th>name</th>\n",
              "      <th>type</th>\n",
              "      <th>notnull</th>\n",
              "      <th>dflt_value</th>\n",
              "      <th>pk</th>\n",
              "    </tr>\n",
              "  </thead>\n",
              "  <tbody>\n",
              "    <tr>\n",
              "      <th>0</th>\n",
              "      <td>0</td>\n",
              "      <td>index</td>\n",
              "      <td>INTEGER</td>\n",
              "      <td>0</td>\n",
              "      <td>None</td>\n",
              "      <td>0</td>\n",
              "    </tr>\n",
              "    <tr>\n",
              "      <th>1</th>\n",
              "      <td>1</td>\n",
              "      <td>MID</td>\n",
              "      <td>TEXT</td>\n",
              "      <td>0</td>\n",
              "      <td>None</td>\n",
              "      <td>0</td>\n",
              "    </tr>\n",
              "    <tr>\n",
              "      <th>2</th>\n",
              "      <td>2</td>\n",
              "      <td>LAID</td>\n",
              "      <td>INTEGER</td>\n",
              "      <td>0</td>\n",
              "      <td>None</td>\n",
              "      <td>0</td>\n",
              "    </tr>\n",
              "    <tr>\n",
              "      <th>3</th>\n",
              "      <td>3</td>\n",
              "      <td>ID</td>\n",
              "      <td>INTEGER</td>\n",
              "      <td>0</td>\n",
              "      <td>None</td>\n",
              "      <td>0</td>\n",
              "    </tr>\n",
              "  </tbody>\n",
              "</table>\n",
              "</div>"
            ],
            "text/plain": [
              "   cid   name     type  notnull dflt_value  pk\n",
              "0    0  index  INTEGER        0       None   0\n",
              "1    1    MID     TEXT        0       None   0\n",
              "2    2   LAID  INTEGER        0       None   0\n",
              "3    3     ID  INTEGER        0       None   0"
            ]
          },
          "metadata": {}
        },
        {
          "output_type": "stream",
          "name": "stdout",
          "text": [
            "----------------------------------------------------------------------------------------------------\n",
            "\n",
            "\n",
            "Schema of M_Genre\n"
          ]
        },
        {
          "output_type": "display_data",
          "data": {
            "text/html": [
              "<div>\n",
              "<style scoped>\n",
              "    .dataframe tbody tr th:only-of-type {\n",
              "        vertical-align: middle;\n",
              "    }\n",
              "\n",
              "    .dataframe tbody tr th {\n",
              "        vertical-align: top;\n",
              "    }\n",
              "\n",
              "    .dataframe thead th {\n",
              "        text-align: right;\n",
              "    }\n",
              "</style>\n",
              "<table border=\"1\" class=\"dataframe\">\n",
              "  <thead>\n",
              "    <tr style=\"text-align: right;\">\n",
              "      <th></th>\n",
              "      <th>cid</th>\n",
              "      <th>name</th>\n",
              "      <th>type</th>\n",
              "      <th>notnull</th>\n",
              "      <th>dflt_value</th>\n",
              "      <th>pk</th>\n",
              "    </tr>\n",
              "  </thead>\n",
              "  <tbody>\n",
              "    <tr>\n",
              "      <th>0</th>\n",
              "      <td>0</td>\n",
              "      <td>index</td>\n",
              "      <td>INTEGER</td>\n",
              "      <td>0</td>\n",
              "      <td>None</td>\n",
              "      <td>0</td>\n",
              "    </tr>\n",
              "    <tr>\n",
              "      <th>1</th>\n",
              "      <td>1</td>\n",
              "      <td>MID</td>\n",
              "      <td>TEXT</td>\n",
              "      <td>0</td>\n",
              "      <td>None</td>\n",
              "      <td>0</td>\n",
              "    </tr>\n",
              "    <tr>\n",
              "      <th>2</th>\n",
              "      <td>2</td>\n",
              "      <td>GID</td>\n",
              "      <td>INTEGER</td>\n",
              "      <td>0</td>\n",
              "      <td>None</td>\n",
              "      <td>0</td>\n",
              "    </tr>\n",
              "    <tr>\n",
              "      <th>3</th>\n",
              "      <td>3</td>\n",
              "      <td>ID</td>\n",
              "      <td>INTEGER</td>\n",
              "      <td>0</td>\n",
              "      <td>None</td>\n",
              "      <td>0</td>\n",
              "    </tr>\n",
              "  </tbody>\n",
              "</table>\n",
              "</div>"
            ],
            "text/plain": [
              "   cid   name     type  notnull dflt_value  pk\n",
              "0    0  index  INTEGER        0       None   0\n",
              "1    1    MID     TEXT        0       None   0\n",
              "2    2    GID  INTEGER        0       None   0\n",
              "3    3     ID  INTEGER        0       None   0"
            ]
          },
          "metadata": {}
        },
        {
          "output_type": "stream",
          "name": "stdout",
          "text": [
            "----------------------------------------------------------------------------------------------------\n",
            "\n",
            "\n",
            "Schema of Person\n"
          ]
        },
        {
          "output_type": "display_data",
          "data": {
            "text/html": [
              "<div>\n",
              "<style scoped>\n",
              "    .dataframe tbody tr th:only-of-type {\n",
              "        vertical-align: middle;\n",
              "    }\n",
              "\n",
              "    .dataframe tbody tr th {\n",
              "        vertical-align: top;\n",
              "    }\n",
              "\n",
              "    .dataframe thead th {\n",
              "        text-align: right;\n",
              "    }\n",
              "</style>\n",
              "<table border=\"1\" class=\"dataframe\">\n",
              "  <thead>\n",
              "    <tr style=\"text-align: right;\">\n",
              "      <th></th>\n",
              "      <th>cid</th>\n",
              "      <th>name</th>\n",
              "      <th>type</th>\n",
              "      <th>notnull</th>\n",
              "      <th>dflt_value</th>\n",
              "      <th>pk</th>\n",
              "    </tr>\n",
              "  </thead>\n",
              "  <tbody>\n",
              "    <tr>\n",
              "      <th>0</th>\n",
              "      <td>0</td>\n",
              "      <td>index</td>\n",
              "      <td>INTEGER</td>\n",
              "      <td>0</td>\n",
              "      <td>None</td>\n",
              "      <td>0</td>\n",
              "    </tr>\n",
              "    <tr>\n",
              "      <th>1</th>\n",
              "      <td>1</td>\n",
              "      <td>PID</td>\n",
              "      <td>TEXT</td>\n",
              "      <td>0</td>\n",
              "      <td>None</td>\n",
              "      <td>0</td>\n",
              "    </tr>\n",
              "    <tr>\n",
              "      <th>2</th>\n",
              "      <td>2</td>\n",
              "      <td>Name</td>\n",
              "      <td>TEXT</td>\n",
              "      <td>0</td>\n",
              "      <td>None</td>\n",
              "      <td>0</td>\n",
              "    </tr>\n",
              "    <tr>\n",
              "      <th>3</th>\n",
              "      <td>3</td>\n",
              "      <td>Gender</td>\n",
              "      <td>TEXT</td>\n",
              "      <td>0</td>\n",
              "      <td>None</td>\n",
              "      <td>0</td>\n",
              "    </tr>\n",
              "  </tbody>\n",
              "</table>\n",
              "</div>"
            ],
            "text/plain": [
              "   cid    name     type  notnull dflt_value  pk\n",
              "0    0   index  INTEGER        0       None   0\n",
              "1    1     PID     TEXT        0       None   0\n",
              "2    2    Name     TEXT        0       None   0\n",
              "3    3  Gender     TEXT        0       None   0"
            ]
          },
          "metadata": {}
        },
        {
          "output_type": "stream",
          "name": "stdout",
          "text": [
            "----------------------------------------------------------------------------------------------------\n",
            "\n",
            "\n",
            "Schema of M_Producer\n"
          ]
        },
        {
          "output_type": "display_data",
          "data": {
            "text/html": [
              "<div>\n",
              "<style scoped>\n",
              "    .dataframe tbody tr th:only-of-type {\n",
              "        vertical-align: middle;\n",
              "    }\n",
              "\n",
              "    .dataframe tbody tr th {\n",
              "        vertical-align: top;\n",
              "    }\n",
              "\n",
              "    .dataframe thead th {\n",
              "        text-align: right;\n",
              "    }\n",
              "</style>\n",
              "<table border=\"1\" class=\"dataframe\">\n",
              "  <thead>\n",
              "    <tr style=\"text-align: right;\">\n",
              "      <th></th>\n",
              "      <th>cid</th>\n",
              "      <th>name</th>\n",
              "      <th>type</th>\n",
              "      <th>notnull</th>\n",
              "      <th>dflt_value</th>\n",
              "      <th>pk</th>\n",
              "    </tr>\n",
              "  </thead>\n",
              "  <tbody>\n",
              "    <tr>\n",
              "      <th>0</th>\n",
              "      <td>0</td>\n",
              "      <td>index</td>\n",
              "      <td>INTEGER</td>\n",
              "      <td>0</td>\n",
              "      <td>None</td>\n",
              "      <td>0</td>\n",
              "    </tr>\n",
              "    <tr>\n",
              "      <th>1</th>\n",
              "      <td>1</td>\n",
              "      <td>MID</td>\n",
              "      <td>TEXT</td>\n",
              "      <td>0</td>\n",
              "      <td>None</td>\n",
              "      <td>0</td>\n",
              "    </tr>\n",
              "    <tr>\n",
              "      <th>2</th>\n",
              "      <td>2</td>\n",
              "      <td>PID</td>\n",
              "      <td>TEXT</td>\n",
              "      <td>0</td>\n",
              "      <td>None</td>\n",
              "      <td>0</td>\n",
              "    </tr>\n",
              "    <tr>\n",
              "      <th>3</th>\n",
              "      <td>3</td>\n",
              "      <td>ID</td>\n",
              "      <td>INTEGER</td>\n",
              "      <td>0</td>\n",
              "      <td>None</td>\n",
              "      <td>0</td>\n",
              "    </tr>\n",
              "  </tbody>\n",
              "</table>\n",
              "</div>"
            ],
            "text/plain": [
              "   cid   name     type  notnull dflt_value  pk\n",
              "0    0  index  INTEGER        0       None   0\n",
              "1    1    MID     TEXT        0       None   0\n",
              "2    2    PID     TEXT        0       None   0\n",
              "3    3     ID  INTEGER        0       None   0"
            ]
          },
          "metadata": {}
        },
        {
          "output_type": "stream",
          "name": "stdout",
          "text": [
            "----------------------------------------------------------------------------------------------------\n",
            "\n",
            "\n",
            "Schema of M_Director\n"
          ]
        },
        {
          "output_type": "display_data",
          "data": {
            "text/html": [
              "<div>\n",
              "<style scoped>\n",
              "    .dataframe tbody tr th:only-of-type {\n",
              "        vertical-align: middle;\n",
              "    }\n",
              "\n",
              "    .dataframe tbody tr th {\n",
              "        vertical-align: top;\n",
              "    }\n",
              "\n",
              "    .dataframe thead th {\n",
              "        text-align: right;\n",
              "    }\n",
              "</style>\n",
              "<table border=\"1\" class=\"dataframe\">\n",
              "  <thead>\n",
              "    <tr style=\"text-align: right;\">\n",
              "      <th></th>\n",
              "      <th>cid</th>\n",
              "      <th>name</th>\n",
              "      <th>type</th>\n",
              "      <th>notnull</th>\n",
              "      <th>dflt_value</th>\n",
              "      <th>pk</th>\n",
              "    </tr>\n",
              "  </thead>\n",
              "  <tbody>\n",
              "    <tr>\n",
              "      <th>0</th>\n",
              "      <td>0</td>\n",
              "      <td>index</td>\n",
              "      <td>INTEGER</td>\n",
              "      <td>0</td>\n",
              "      <td>None</td>\n",
              "      <td>0</td>\n",
              "    </tr>\n",
              "    <tr>\n",
              "      <th>1</th>\n",
              "      <td>1</td>\n",
              "      <td>MID</td>\n",
              "      <td>TEXT</td>\n",
              "      <td>0</td>\n",
              "      <td>None</td>\n",
              "      <td>0</td>\n",
              "    </tr>\n",
              "    <tr>\n",
              "      <th>2</th>\n",
              "      <td>2</td>\n",
              "      <td>PID</td>\n",
              "      <td>TEXT</td>\n",
              "      <td>0</td>\n",
              "      <td>None</td>\n",
              "      <td>0</td>\n",
              "    </tr>\n",
              "    <tr>\n",
              "      <th>3</th>\n",
              "      <td>3</td>\n",
              "      <td>ID</td>\n",
              "      <td>INTEGER</td>\n",
              "      <td>0</td>\n",
              "      <td>None</td>\n",
              "      <td>0</td>\n",
              "    </tr>\n",
              "  </tbody>\n",
              "</table>\n",
              "</div>"
            ],
            "text/plain": [
              "   cid   name     type  notnull dflt_value  pk\n",
              "0    0  index  INTEGER        0       None   0\n",
              "1    1    MID     TEXT        0       None   0\n",
              "2    2    PID     TEXT        0       None   0\n",
              "3    3     ID  INTEGER        0       None   0"
            ]
          },
          "metadata": {}
        },
        {
          "output_type": "stream",
          "name": "stdout",
          "text": [
            "----------------------------------------------------------------------------------------------------\n",
            "\n",
            "\n",
            "Schema of M_Cast\n"
          ]
        },
        {
          "output_type": "display_data",
          "data": {
            "text/html": [
              "<div>\n",
              "<style scoped>\n",
              "    .dataframe tbody tr th:only-of-type {\n",
              "        vertical-align: middle;\n",
              "    }\n",
              "\n",
              "    .dataframe tbody tr th {\n",
              "        vertical-align: top;\n",
              "    }\n",
              "\n",
              "    .dataframe thead th {\n",
              "        text-align: right;\n",
              "    }\n",
              "</style>\n",
              "<table border=\"1\" class=\"dataframe\">\n",
              "  <thead>\n",
              "    <tr style=\"text-align: right;\">\n",
              "      <th></th>\n",
              "      <th>cid</th>\n",
              "      <th>name</th>\n",
              "      <th>type</th>\n",
              "      <th>notnull</th>\n",
              "      <th>dflt_value</th>\n",
              "      <th>pk</th>\n",
              "    </tr>\n",
              "  </thead>\n",
              "  <tbody>\n",
              "    <tr>\n",
              "      <th>0</th>\n",
              "      <td>0</td>\n",
              "      <td>index</td>\n",
              "      <td>INTEGER</td>\n",
              "      <td>0</td>\n",
              "      <td>None</td>\n",
              "      <td>0</td>\n",
              "    </tr>\n",
              "    <tr>\n",
              "      <th>1</th>\n",
              "      <td>1</td>\n",
              "      <td>MID</td>\n",
              "      <td>TEXT</td>\n",
              "      <td>0</td>\n",
              "      <td>None</td>\n",
              "      <td>0</td>\n",
              "    </tr>\n",
              "    <tr>\n",
              "      <th>2</th>\n",
              "      <td>2</td>\n",
              "      <td>PID</td>\n",
              "      <td>TEXT</td>\n",
              "      <td>0</td>\n",
              "      <td>None</td>\n",
              "      <td>0</td>\n",
              "    </tr>\n",
              "    <tr>\n",
              "      <th>3</th>\n",
              "      <td>3</td>\n",
              "      <td>ID</td>\n",
              "      <td>INTEGER</td>\n",
              "      <td>0</td>\n",
              "      <td>None</td>\n",
              "      <td>0</td>\n",
              "    </tr>\n",
              "  </tbody>\n",
              "</table>\n",
              "</div>"
            ],
            "text/plain": [
              "   cid   name     type  notnull dflt_value  pk\n",
              "0    0  index  INTEGER        0       None   0\n",
              "1    1    MID     TEXT        0       None   0\n",
              "2    2    PID     TEXT        0       None   0\n",
              "3    3     ID  INTEGER        0       None   0"
            ]
          },
          "metadata": {}
        },
        {
          "output_type": "stream",
          "name": "stdout",
          "text": [
            "----------------------------------------------------------------------------------------------------\n",
            "\n",
            "\n"
          ]
        }
      ]
    },
    {
      "cell_type": "markdown",
      "metadata": {
        "id": "O4Cj0Wdz23tA"
      },
      "source": [
        "## Useful tips:\n",
        "\n",
        "1. the year column in 'Movie' table, will have few chracters other than numbers which you need to be preprocessed, you need to get a substring of last 4 characters, its better if you convert it as int type, ex: CAST(SUBSTR(TRIM(m.year),-4) AS INTEGER)\n",
        "\n",
        "2. For almost all the TEXT columns we have show, please try to remove trailing spaces, you need to use TRIM() function\n",
        "\n",
        "3. When you are doing count(coulmn) it won't consider the \"NULL\" values, you might need to explore other alternatives like Count(*)"
      ]
    },
    {
      "cell_type": "markdown",
      "metadata": {
        "id": "jL9AmM3oE_IZ"
      },
      "source": [
        "## Q1 --- List all the directors who directed a 'Comedy' movie in a leap year. (You need to check that the genre is 'Comedy’ and year is a leap year) Your query should return director name, the movie name, and the year."
      ]
    },
    {
      "cell_type": "markdown",
      "metadata": {
        "id": "1jglmxDuE_Ib"
      },
      "source": [
        "<h4>To determine whether a year is a leap year, follow these steps:</h4>\n",
        "\n",
        "<ul>\n",
        "    <li><b>STEP-1:</b> If the year is evenly divisible by 4, go to step 2. Otherwise, go to step 5.</li>\n",
        "    <li><b>STEP-2:</b> If the year is evenly divisible by 100, go to step 3. Otherwise, go to step 4.</li>\n",
        "    <li><b>STEP-3:</b> If the year is evenly divisible by 400, go to step 4. Otherwise, go to step 5.</li>\n",
        "    <li><b>STEP-4:</b> The year is a leap year (it has 366 days).</li>\n",
        "    <li><b>STEP-5:</b> The year is not a leap year (it has 365 days).</li>\n",
        "</ul>\n",
        "\n",
        "Year 1900 is divisible by 4 and 100 but it is not divisible by 400, so it is not a leap year."
      ]
    },
    {
      "cell_type": "code",
      "metadata": {
        "id": "yBo_pMrH23tD",
        "colab": {
          "base_uri": "https://localhost:8080/"
        },
        "outputId": "cf7cf391-3e38-4031-c678-8ac25b5e7931"
      },
      "source": [
        "def grader_1(q1):\n",
        "    q1_results  = pd.read_sql_query(q1,conn)\n",
        "    print(q1_results.head(10))\n",
        "    assert (q1_results.shape == (232,3))\n",
        "\n",
        "query1 =  \"\"\" \n",
        "          SELECT p.Name,m.title,CAST(SUBSTR(TRIM(m.year),-4) AS INTEGER) AS ryear FROM 'Genre' g\n",
        "          join M_Genre mg on g.GID = mg.GID\n",
        "          join Movie m on m.MID = mg.MID \n",
        "          join M_Director md on md.MID = m.MID\n",
        "          join Person p on p.PID = md.PID\n",
        "          where g.Name LIKE '%Comedy%' and \n",
        "          ((ryear % 4 = 0 and ryear % 100 <> 0) or (ryear % 400 = 0))\n",
        "          \"\"\"\n",
        "grader_1(query1)"
      ],
      "execution_count": 6,
      "outputs": [
        {
          "output_type": "stream",
          "name": "stdout",
          "text": [
            "                    Name                         title  ryear\n",
            "0          Prakash Mehra                    Hera Pheri   1976\n",
            "1             Raj Kanwar                       Deewana   1992\n",
            "2           Priyadarshan                    Hera Pheri   2000\n",
            "3           Naresh Kumar                 Gora Aur Kala   1972\n",
            "4          Eeshwar Nivas  My Name Is Anthony Gonsalves   2008\n",
            "5           Anees Bazmee                Singh Is Kinng   2008\n",
            "6   Deepak S. Shivdasani           Mr. White Mr. Black   2008\n",
            "7         Anurag Kashyap            Gangs of Wasseypur   2012\n",
            "8           Rajat Kapoor                        Mithya   2008\n",
            "9          Ravindra Dave                  Dulha Dulhan   1964\n"
          ]
        }
      ]
    },
    {
      "cell_type": "markdown",
      "metadata": {
        "id": "LHFSrIJlE_Ih"
      },
      "source": [
        "## Q2 --- List the names of all the actors who played in the movie 'Anand' (1971)"
      ]
    },
    {
      "cell_type": "code",
      "metadata": {
        "id": "5BSQOVlk23tS",
        "colab": {
          "base_uri": "https://localhost:8080/"
        },
        "outputId": "cb88aaa6-5b77-4bd6-b839-48e4371be92b"
      },
      "source": [
        "\n",
        "def grader_2(q2):\n",
        "    q2_results  = pd.read_sql_query(q2,conn)\n",
        "    print(q2_results.head(10))\n",
        "    assert (q2_results.shape == (17,1))\n",
        "\n",
        "\n",
        "query2 = \"\"\" SELECT P.NAME FROM PERSON P WHERE P.PID IN \n",
        "          (SELECT LTRIM(PID) FROM M_CAST C WHERE C.MID IN \n",
        "          (SELECT M.MID FROM MOVIE M WHERE TITLE='Anand')) \"\"\"\n",
        "grader_2(query2)"
      ],
      "execution_count": 7,
      "outputs": [
        {
          "output_type": "stream",
          "name": "stdout",
          "text": [
            "                Name\n",
            "0   Amitabh Bachchan\n",
            "1      Rajesh Khanna\n",
            "2      Sumita Sanyal\n",
            "3         Ramesh Deo\n",
            "4          Seema Deo\n",
            "5     Asit Kumar Sen\n",
            "6         Dev Kishan\n",
            "7       Atam Prakash\n",
            "8      Lalita Kumari\n",
            "9             Savita\n"
          ]
        }
      ]
    },
    {
      "cell_type": "markdown",
      "metadata": {
        "id": "bJ-mAUMmE_Il"
      },
      "source": [
        "## Q3 --- List all the actors who acted in a film before 1970 and in a film after 1990. (That is: < 1970 and > 1990.)"
      ]
    },
    {
      "cell_type": "code",
      "metadata": {
        "id": "HARXLaJ623tY",
        "colab": {
          "base_uri": "https://localhost:8080/"
        },
        "outputId": "bd7ea2cd-c14a-4466-86ba-9703ac68fd78"
      },
      "source": [
        "\n",
        "\n",
        "def grader_3a(query_less_1970, query_more_1990):\n",
        "    q3_a = pd.read_sql_query(query_less_1970,conn)\n",
        "    print(q3_a.shape)\n",
        "    q3_b = pd.read_sql_query(query_more_1990,conn)\n",
        "    print(q3_b.shape)\n",
        "    return (q3_a.shape == (4942,1)) and (q3_b.shape == (62570,1))\n",
        "\n",
        "query_less_1970 =\"\"\" \n",
        "Select p.PID from Person p \n",
        "inner join \n",
        "(\n",
        "    select trim(mc.PID) PD, mc.MID from M_cast mc \n",
        "where mc.MID \n",
        "in \n",
        "(\n",
        "    select mv.MID from Movie mv where CAST(SUBSTR(mv.year,-4) AS Integer)<1970\n",
        ")\n",
        ") r1 \n",
        "on r1.PD=p.PID \n",
        "\"\"\"\n",
        "query_more_1990 =\"\"\" \n",
        "Select p.PID from Person p \n",
        "inner join \n",
        "(\n",
        "    select trim(mc.PID) PD, mc.MID from M_cast mc \n",
        "where mc.MID \n",
        "in \n",
        "(\n",
        "    select mv.MID from Movie mv where CAST(SUBSTR(mv.year,-4) AS Integer)>1990\n",
        ")\n",
        ") r1 \n",
        "on r1.PD=p.PID \"\"\"\n",
        "print(grader_3a(query_less_1970, query_more_1990))\n",
        "\n",
        "# using the above two queries, you can find the answer to the given question "
      ],
      "execution_count": 8,
      "outputs": [
        {
          "output_type": "stream",
          "name": "stdout",
          "text": [
            "(4942, 1)\n",
            "(62570, 1)\n",
            "True\n"
          ]
        }
      ]
    },
    {
      "cell_type": "code",
      "metadata": {
        "id": "sbzv0UZZ23td",
        "colab": {
          "base_uri": "https://localhost:8080/"
        },
        "outputId": "85c1c974-86b5-4a9e-afb1-9b2f906d9c45"
      },
      "source": [
        "\n",
        "def grader_3(q3):\n",
        "    q3_results  = pd.read_sql_query(q3,conn)\n",
        "    print(q3_results.head(10))\n",
        "    assert (q3_results.shape == (300,1))\n",
        "\n",
        "query3 = \"\"\" Select p.PID from Person p \n",
        "inner join \n",
        "(\n",
        "    select trim(mc.PID) PD, mc.MID from M_cast mc \n",
        "where mc.MID \n",
        "in \n",
        "(\n",
        "    select mv.MID from Movie mv where CAST(SUBSTR(mv.year,-4) AS Integer)<1970\n",
        ")\n",
        ") r1 \n",
        "on r1.PD=p.PID \n",
        "INTERSECT\n",
        "Select p.PID from Person p \n",
        "inner join \n",
        "(\n",
        "    select trim(mc.PID) PD, mc.MID from M_cast mc \n",
        "where mc.MID \n",
        "in \n",
        "(\n",
        "    select mv.MID from Movie mv where CAST(SUBSTR(mv.year,-4) AS Integer)>1990\n",
        ")\n",
        ") r1 \n",
        "on r1.PD=p.PID \"\"\"\n",
        "grader_3(query3)"
      ],
      "execution_count": 9,
      "outputs": [
        {
          "output_type": "stream",
          "name": "stdout",
          "text": [
            "         PID\n",
            "0  nm0000821\n",
            "1  nm0003987\n",
            "2  nm0004334\n",
            "3  nm0004429\n",
            "4  nm0004432\n",
            "5  nm0004433\n",
            "6  nm0004434\n",
            "7  nm0004435\n",
            "8  nm0004564\n",
            "9  nm0004569\n"
          ]
        }
      ]
    },
    {
      "cell_type": "markdown",
      "metadata": {
        "id": "wd3tqFxaE_Ir"
      },
      "source": [
        "## Q4 --- List all directors who directed 10 movies or more, in descending order of the number of movies they directed. Return the directors' names and the number of movies each of them directed."
      ]
    },
    {
      "cell_type": "code",
      "metadata": {
        "id": "aGgqAYk723th",
        "colab": {
          "base_uri": "https://localhost:8080/"
        },
        "outputId": "ec515374-801a-4496-9aaf-248271509076"
      },
      "source": [
        "%%time\n",
        "\n",
        "def grader_4a(query_4a):\n",
        "    query_4a = pd.read_sql_query(query_4a,conn)\n",
        "    print(query_4a.head(10)) \n",
        "    return (query_4a.shape == (1462,2))\n",
        "\n",
        "query_4a =\"\"\" select md.PID,count(md.MID) from M_Director md group by md.PID\"\"\"\n",
        "print(grader_4a(query_4a))\n",
        "\n",
        "# using the above query, you can write the answer to the given question"
      ],
      "execution_count": 10,
      "outputs": [
        {
          "output_type": "stream",
          "name": "stdout",
          "text": [
            "         PID  count(md.MID)\n",
            "0  nm0000180              1\n",
            "1  nm0000187              1\n",
            "2  nm0000229              1\n",
            "3  nm0000269              1\n",
            "4  nm0000386              1\n",
            "5  nm0000487              2\n",
            "6  nm0000965              1\n",
            "7  nm0001060              1\n",
            "8  nm0001162              1\n",
            "9  nm0001241              1\n",
            "True\n",
            "CPU times: user 12.8 ms, sys: 80 µs, total: 12.9 ms\n",
            "Wall time: 13.4 ms\n"
          ]
        }
      ]
    },
    {
      "cell_type": "code",
      "metadata": {
        "id": "xROoSzcF23tn",
        "colab": {
          "base_uri": "https://localhost:8080/"
        },
        "outputId": "4656fa01-7130-40d1-a789-9ddc0a0dd885"
      },
      "source": [
        "\n",
        "def grader_4(q4):\n",
        "    q4_results  = pd.read_sql_query(q4,conn)\n",
        "    print(q4_results.head(10))\n",
        "    assert (q4_results.shape == (58,2))\n",
        "\n",
        "query4 = \"\"\" select * from (select p.name,count(1) as cnt from M_Director md\n",
        "            join Movie m on md.MID = m.MID\n",
        "            join Person p on md.PID = p.PID\n",
        "            group by md.PID) cn where cn.cnt>=10\n",
        "            order by cn.cnt desc  \"\"\"\n",
        "grader_4(query4)"
      ],
      "execution_count": 11,
      "outputs": [
        {
          "output_type": "stream",
          "name": "stdout",
          "text": [
            "                    name  cnt\n",
            "0           David Dhawan   39\n",
            "1           Mahesh Bhatt   35\n",
            "2           Priyadarshan   30\n",
            "3        Ram Gopal Varma   30\n",
            "4           Vikram Bhatt   29\n",
            "5   Hrishikesh Mukherjee   27\n",
            "6            Yash Chopra   21\n",
            "7        Basu Chatterjee   19\n",
            "8         Shakti Samanta   19\n",
            "9           Subhash Ghai   18\n"
          ]
        }
      ]
    },
    {
      "cell_type": "markdown",
      "metadata": {
        "id": "OnulNpiOE_Iw"
      },
      "source": [
        "## Q5.a --- For each year, count the number of movies in that year that had only female actors."
      ]
    },
    {
      "cell_type": "code",
      "metadata": {
        "id": "ES-gGiNG23tr",
        "colab": {
          "base_uri": "https://localhost:8080/"
        },
        "outputId": "82eeafb1-c8f7-4e2e-fe52-743fd5acca29"
      },
      "source": [
        "%%time\n",
        "\n",
        "# note that you don't need TRIM for person table\n",
        "\n",
        "def grader_5aa(query_5aa):\n",
        "    query_5aa = pd.read_sql_query(query_5aa,conn)\n",
        "    print(query_5aa.head(10)) \n",
        "    return (query_5aa.shape == (8846,3))\n",
        "\n",
        "query_5aa =\"\"\" \n",
        "              SELECT Movie.MID, Person.Gender,COUNT(Person.Gender) as gender_count\n",
        "              FROM Movie\n",
        "              JOIN M_Cast ON Movie.MID = M_Cast.MID\n",
        "              JOIN Person ON M_Cast.PID = Person.PID\n",
        "              GROUP BY Movie.MID, Person.Gender\n",
        "               \n",
        "           \"\"\"\n",
        "\n",
        "print(grader_5aa(query_5aa))\n",
        "\n",
        "def grader_5ab(query_5ab):\n",
        "    query_5ab = pd.read_sql_query(query_5ab,conn)\n",
        "    print(query_5ab.head(10)) \n",
        "    return (query_5ab.shape == (3469, 3))\n",
        "\n",
        "query_5ab = \"\"\" \n",
        "              SELECT Movie.MID\n",
        "              FROM Movie\n",
        "              JOIN M_Cast\n",
        "              ON Movie.MID = M_Cast.MID\n",
        "              JOIN Person\n",
        "              ON M_Cast.PID = Person.PID\n",
        "              GROUP BY Movie.MID, Person.Gender\n",
        "              HAVING COUNT(Person.Gender) >=1 AND Person.Gender =\"Male\"\n",
        "\n",
        "            \"\"\"\n",
        "\n",
        "print(grader_5ab(query_5ab))\n",
        "\n",
        "\n",
        "# using the above queries, you can write the answer to the given question"
      ],
      "execution_count": 12,
      "outputs": [
        {
          "output_type": "stream",
          "name": "stdout",
          "text": [
            "Empty DataFrame\n",
            "Columns: [MID, Gender, gender_count]\n",
            "Index: []\n",
            "False\n",
            "Empty DataFrame\n",
            "Columns: [MID]\n",
            "Index: []\n",
            "False\n",
            "CPU times: user 338 ms, sys: 12.6 ms, total: 350 ms\n",
            "Wall time: 353 ms\n"
          ]
        }
      ]
    },
    {
      "cell_type": "code",
      "metadata": {
        "id": "zQOIawPME_Ix",
        "colab": {
          "base_uri": "https://localhost:8080/"
        },
        "outputId": "9069cf30-8c48-44d4-df73-6c065d4bb5f4"
      },
      "source": [
        "\n",
        "def grader_5a(q5a):\n",
        "    q5a_results  = pd.read_sql_query(q5a,conn)\n",
        "    print(q5a_results.head(10))\n",
        "    assert (q5a_results.shape == (4,2))\n",
        "\n",
        "query5a = \"\"\" \n",
        "            select year,COUNT(MID) From Movie WHERE MID NOT IN\n",
        "            (SELECT TRIM(MID) FROM M_cast WHERE TRIM(PID) IN \n",
        "            (SELECT PID FROM Person WHERE Gender='Male' OR Gender IS NULL)\n",
        "            OR TRIM(PID) IS NULL GROUP BY MID) \n",
        "            GROUP BY year\n",
        "\n",
        "          \"\"\"\n",
        "grader_5a(query5a)"
      ],
      "execution_count": 13,
      "outputs": [
        {
          "output_type": "stream",
          "name": "stdout",
          "text": [
            "     year  COUNT(MID)\n",
            "0    1939           1\n",
            "1    1999           1\n",
            "2    2000           1\n",
            "3  I 2018           1\n"
          ]
        }
      ]
    },
    {
      "cell_type": "markdown",
      "metadata": {
        "id": "cTiKejUfE_I1"
      },
      "source": [
        "## Q5.b --- Now include a small change: report for each year the percentage of movies in that year with only female actors, and the total number of movies made that year. For example, one answer will be: 1990 31.81 13522 meaning that in 1990 there were 13,522 movies, and 31.81% had only female actors. You do not need to round your answer."
      ]
    },
    {
      "cell_type": "code",
      "metadata": {
        "id": "Xv6iXvcZE_I2",
        "colab": {
          "base_uri": "https://localhost:8080/"
        },
        "outputId": "2afbd5af-f01c-4f51-8058-0fadb1841fef"
      },
      "source": [
        "%%time\n",
        "def grader_5b(q5b):\n",
        "    q5b_results  = pd.read_sql_query(q5b,conn)\n",
        "    print(q5b_results.head(10))\n",
        "    assert (q5b_results.shape == (4,3))\n",
        "\n",
        "query5b = \"\"\" SELECT Temp.Year, 100* (CAST(Temp.cnt AS FLOAT)/Temp2.cnt) percentage, Temp2.cnt FROM \n",
        "            (SELECT M.Year,COUNT(*) cnt FROM Movie M WHERE M.MID IN \n",
        "            (SELECT DISTINCT M_C.MID FROM M_Cast M_C WHERE M_C.MID NOT IN\n",
        "            (SELECT DISTINCT M_C.MID FROM M_Cast M_C WHERE TRIM(M_C.PID) IN \n",
        "            (SELECT P.PID FROM Person P WHERE P.Gender = 'Male') \n",
        "            OR M_C.PID IS NULL)) GROUP BY M.year) AS Temp JOIN  \n",
        "            (SELECT M.year year, COUNT(*) cnt FROM Movie M GROUP BY M.year ) AS \n",
        "            Temp2 ON Temp.year=Temp2.year; \"\"\"\n",
        "grader_5b(query5b)"
      ],
      "execution_count": 14,
      "outputs": [
        {
          "output_type": "stream",
          "name": "stdout",
          "text": [
            "     Year  percentage  cnt\n",
            "0    1939   50.000000    2\n",
            "1    1999    1.515152   66\n",
            "2    2000    1.562500   64\n",
            "3  I 2018   10.000000   10\n",
            "CPU times: user 140 ms, sys: 3.67 ms, total: 144 ms\n",
            "Wall time: 144 ms\n"
          ]
        }
      ]
    },
    {
      "cell_type": "markdown",
      "metadata": {
        "id": "d5mvJcHDE_I6"
      },
      "source": [
        "## Q6 --- Find the film(s) with the largest cast. Return the movie title and the size of the cast. By \"cast size\" we mean the number of distinct actors that played in that movie: if an actor played multiple roles, or if it simply occurs multiple times in casts, we still count her/him only once."
      ]
    },
    {
      "cell_type": "code",
      "metadata": {
        "id": "vpr9gGg6E_I7",
        "colab": {
          "base_uri": "https://localhost:8080/"
        },
        "outputId": "0cbe3359-69cd-4c60-cee5-4ff8c994bd92"
      },
      "source": [
        "%%time\n",
        "def grader_6(q6):\n",
        "    q6_results  = pd.read_sql_query(q6,conn)\n",
        "    print(q6_results.head(10))\n",
        "    assert (q6_results.shape == (3473, 2))\n",
        "\n",
        "query6 = \"\"\" select m.title,count(distinct  mc.PID) as castsize from M_Cast mc\n",
        "            join Movie m on mc.MID = m.MID\n",
        "            group by mc.MID order by castsize desc  \"\"\"\n",
        "grader_6(query6)"
      ],
      "execution_count": 15,
      "outputs": [
        {
          "output_type": "stream",
          "name": "stdout",
          "text": [
            "                        title  castsize\n",
            "0               Ocean's Eight       238\n",
            "1                    Apaharan       233\n",
            "2                        Gold       215\n",
            "3             My Name Is Khan       213\n",
            "4  Captain America: Civil War       191\n",
            "5                    Geostorm       170\n",
            "6                     Striker       165\n",
            "7                        2012       154\n",
            "8                      Pixels       144\n",
            "9       Yamla Pagla Deewana 2       140\n",
            "CPU times: user 122 ms, sys: 5.81 ms, total: 128 ms\n",
            "Wall time: 131 ms\n"
          ]
        }
      ]
    },
    {
      "cell_type": "markdown",
      "metadata": {
        "id": "E6mOLxNgTby6"
      },
      "source": [
        "### Q7 --- A decade is a sequence of 10 consecutive years. \n",
        "### For example, say in your database you have movie information starting from 1931. \n",
        "### the first decade is 1931, 1932, ..., 1940,\n",
        "### the second decade is 1932, 1933, ..., 1941 and so on. \n",
        "### Find the decade D with the largest number of films and the total number of films in D"
      ]
    },
    {
      "cell_type": "code",
      "metadata": {
        "id": "ZfOWt8IW23uE",
        "colab": {
          "base_uri": "https://localhost:8080/"
        },
        "outputId": "6f3447a8-b91f-4f69-ee97-a78cd95d2c63"
      },
      "source": [
        "%%time\n",
        "def grader_7a(q7a):\n",
        "    q7a_results  = pd.read_sql_query(q7a,conn)\n",
        "    print(q7a_results.head(10))\n",
        "    assert (q7a_results.shape == (125, 2))\n",
        "\n",
        "query7a = \"\"\" \n",
        "            SELECT Movie.year, COUNT(Movie.year) AS Num_Movies\n",
        "            FROM Movie\n",
        "            GROUP BY Movie.year\n",
        "          \"\"\"\n",
        "grader_7a(query7a)\n",
        "\n",
        "# using the above query, you can write the answer to the given question"
      ],
      "execution_count": 16,
      "outputs": [
        {
          "output_type": "stream",
          "name": "stdout",
          "text": [
            "   year  Num_Movies\n",
            "0  1931           1\n",
            "1  1936           3\n",
            "2  1939           2\n",
            "3  1941           1\n",
            "4  1943           1\n",
            "5  1946           2\n",
            "6  1947           2\n",
            "7  1948           3\n",
            "8  1949           3\n",
            "9  1950           2\n",
            "CPU times: user 10.5 ms, sys: 0 ns, total: 10.5 ms\n",
            "Wall time: 10.8 ms\n"
          ]
        }
      ]
    },
    {
      "cell_type": "code",
      "metadata": {
        "id": "sBMzLrIY23uJ",
        "colab": {
          "base_uri": "https://localhost:8080/"
        },
        "outputId": "2468f0fa-778b-4ede-a7ac-286976840f5e"
      },
      "source": [
        "\n",
        "def grader_7b(q7b):\n",
        "    q7b_results  = pd.read_sql_query(q7b,conn)\n",
        "    print(q7b_results.head(10))\n",
        "    print(q7b_results.shape)\n",
        "    assert (q7b_results.shape == (713, 4))\n",
        "\n",
        "query7b = \"\"\"  \n",
        "WITH test7a AS\n",
        "( SELECT Movie.year, COUNT(Movie.year) AS Num_Movies\n",
        "FROM Movie\n",
        "GROUP BY Movie.year\n",
        ")\n",
        "SELECT x.year AS Movie_Year, x.Num_Movies as xNum_Movies, y.year as yYear, y.Num_Movies AS Num_of_Movies\n",
        "FROM test7a x, test7a y\n",
        "WHERE y.year <=x.year+9 AND y.year >=x.year\n",
        "          \"\"\"\n",
        "grader_7b(query7b)\n",
        "# if you see the below results the first movie year is less than 2nd movie year and \n",
        "# 2nd movie year is less or equal to the first movie year+9\n",
        "\n",
        "# using the above query, you can write the answer to the given question"
      ],
      "execution_count": 17,
      "outputs": [
        {
          "output_type": "stream",
          "name": "stdout",
          "text": [
            "  Movie_Year  xNum_Movies yYear  Num_of_Movies\n",
            "0       1931            1  1931              1\n",
            "1       1931            1  1936              3\n",
            "2       1931            1  1939              2\n",
            "3       1936            3  1936              3\n",
            "4       1936            3  1939              2\n",
            "5       1936            3  1941              1\n",
            "6       1936            3  1943              1\n",
            "7       1939            2  1939              2\n",
            "8       1939            2  1941              1\n",
            "9       1939            2  1943              1\n",
            "(713, 4)\n"
          ]
        }
      ]
    },
    {
      "cell_type": "code",
      "metadata": {
        "id": "NKqbguuqE_JA",
        "colab": {
          "base_uri": "https://localhost:8080/"
        },
        "outputId": "442e6cf9-bd23-49b3-8585-ee11b8a145d2"
      },
      "source": [
        "\n",
        "def grader_7(q7):\n",
        "    q7_results  = pd.read_sql_query(q7,conn)\n",
        "    print(q7_results.head(10))\n",
        "    assert (q7_results.shape == (1, 2))\n",
        "\n",
        "query7 = \"\"\" \n",
        "            WITH test7a AS\n",
        "            ( SELECT Movie.year, COUNT(Movie.year) AS Num_Movies\n",
        "            FROM Movie\n",
        "            GROUP BY Movie.year\n",
        "            ),\n",
        "            test7b AS\n",
        "            (SELECT x.year AS Movie_Year, y.Num_Movies AS Num_of_Movies\n",
        "            FROM test7a x, test7a y\n",
        "            WHERE y.year <=x.year+9 AND y.year >=x.year\n",
        "            )\n",
        "            SELECT test7b.Movie_Year AS DECADE ,SUM(test7b.Num_of_Movies) AS Decade_Movie_Count\n",
        "            FROM test7b\n",
        "            GROUP BY test7b.Movie_Year\n",
        "            ORDER BY Decade_Movie_Count DESC\n",
        "            LIMIT 1\n",
        "\n",
        "        \"\"\"\n",
        "grader_7(query7)\n",
        "# if you check the output we are printinng all the year in that decade, its fine you can print 2008 or 2008-2017"
      ],
      "execution_count": 18,
      "outputs": [
        {
          "output_type": "stream",
          "name": "stdout",
          "text": [
            "  DECADE  Decade_Movie_Count\n",
            "0   2008                1126\n"
          ]
        }
      ]
    },
    {
      "cell_type": "markdown",
      "metadata": {
        "id": "Jbm3Oy3hT8d9"
      },
      "source": [
        "## Q8 --- Find all the actors that made more movies with Yash Chopra than any other director."
      ]
    },
    {
      "cell_type": "code",
      "metadata": {
        "id": "DZJ7WMrk23uR",
        "colab": {
          "base_uri": "https://localhost:8080/"
        },
        "outputId": "2de54714-be4e-4cd0-8465-f968725412ec"
      },
      "source": [
        "\n",
        "def grader_8a(q8a):\n",
        "    q8a_results  = pd.read_sql_query(q8a,conn)\n",
        "    print(q8a_results.head(10))\n",
        "    assert (q8a_results.shape == (73408, 3))\n",
        "\n",
        "query8a = \"\"\" \n",
        "            SELECT \n",
        "                  c.PID actor,\n",
        "                  d.PID director,\n",
        "                  COUNT(c.MID) Movies \n",
        "              FROM \n",
        "                  M_Cast c \n",
        "              INNER JOIN \n",
        "                  M_Director d \n",
        "              ON \n",
        "                  c.MID=d.MID \n",
        "              GROUP BY \n",
        "                  TRIM(c.PID),\n",
        "                  TRIM(d.PID)\n",
        "          \"\"\"\n",
        "grader_8a(query8a)\n",
        "\n",
        "# using the above query, you can write the answer to the given question"
      ],
      "execution_count": 19,
      "outputs": [
        {
          "output_type": "stream",
          "name": "stdout",
          "text": [
            "        actor   director  Movies\n",
            "0   nm0000002  nm0496746       1\n",
            "1   nm0000027  nm0000180       1\n",
            "2   nm0000039  nm0896533       1\n",
            "3   nm0000042  nm0896533       1\n",
            "4   nm0000047  nm0004292       1\n",
            "5   nm0000073  nm0485943       1\n",
            "6   nm0000076  nm0000229       1\n",
            "7   nm0000092  nm0178997       1\n",
            "8   nm0000093  nm0000269       1\n",
            "9   nm0000096  nm0113819       1\n"
          ]
        }
      ]
    },
    {
      "cell_type": "code",
      "metadata": {
        "id": "SYMTcHixE_JH",
        "colab": {
          "base_uri": "https://localhost:8080/"
        },
        "outputId": "4cec4bed-18c4-4a18-b68e-b2402ee8d3d3"
      },
      "source": [
        "\n",
        "def grader_8(q8):\n",
        "    q8_results  = pd.read_sql_query(q8,conn)\n",
        "    print(q8_results.head(10))\n",
        "    print(q8_results.shape)\n",
        "    assert (q8_results.shape == (245, 2))\n",
        "\n",
        "query8 =  \"\"\"  \n",
        "             SELECT\n",
        "                  n1.ACTOR name,\n",
        "                  n1.count count\n",
        "              FROM\n",
        "                  (SELECT\n",
        "                      P.NAME ACTOR,\n",
        "                      count(c.MID) COUNT,\n",
        "                      c.PID AID\n",
        "                  FROM\n",
        "                      M_Cast c\n",
        "                  INNER JOIN\n",
        "                      PERSON p\n",
        "                  ON\n",
        "                      p.PID=TRIM(c.PID)\n",
        "                  WHERE\n",
        "                      c.MID\n",
        "                      IN\n",
        "                      (SELECT\n",
        "                          MID\n",
        "                      FROM\n",
        "                          M_Director\n",
        "                      WHERE\n",
        "                          PID\n",
        "                          IN\n",
        "                          (SELECT\n",
        "                              PID\n",
        "                          FROM\n",
        "                              Person p\n",
        "                          WHERE\n",
        "                              Name=' Yash Chopra'))\n",
        "                          GROUP BY\n",
        "                              c.PID) n1\n",
        "              LEFT OUTER JOIN\n",
        "                  (SELECT\n",
        "                      max(count) as count,\n",
        "                      AID\n",
        "                  FROM (SELECT\n",
        "                          count(c.MID) COUNT,\n",
        "                          c.PID AID, d.PID\n",
        "                      FROM M_Cast c\n",
        "                      INNER JOIN\n",
        "                          M_Director d ON c.MID=d.MID\n",
        "                      WHERE\n",
        "                          d.PID\n",
        "                          IN\n",
        "                          (SELECT\n",
        "                              PID\n",
        "                          FROM\n",
        "                              Person p\n",
        "                          WHERE\n",
        "                              Name!=' Yash Chopra')\n",
        "                          GROUP BY\n",
        "                              c.PID,d.PID\n",
        "                          ORDER BY\n",
        "                              count DESC) GROUP BY\n",
        "                          AID order by count desc) n2\n",
        "                  ON\n",
        "                      n1.AID=n2.AID\n",
        "                  WHERE\n",
        "                      n1.count>=IFNULL(n2.count,0)\n",
        "                  ORDER BY\n",
        "                      n1.count DESC\n",
        "          \"\"\"\n",
        "grader_8(query8)"
      ],
      "execution_count": 20,
      "outputs": [
        {
          "output_type": "stream",
          "name": "stdout",
          "text": [
            "                name  count\n",
            "0        Jagdish Raj     11\n",
            "1   Manmohan Krishna     10\n",
            "2           Iftekhar      9\n",
            "3      Shashi Kapoor      7\n",
            "4      Rakhee Gulzar      5\n",
            "5     Waheeda Rehman      5\n",
            "6           Ravikant      4\n",
            "7     Achala Sachdev      4\n",
            "8        Neetu Singh      4\n",
            "9      Leela Chitnis      3\n",
            "(245, 2)\n"
          ]
        }
      ]
    },
    {
      "cell_type": "markdown",
      "metadata": {
        "id": "2j8Fc9jUUJ9C"
      },
      "source": [
        "## Q9 --- The Shahrukh number of an actor is the length of the shortest path between the actor and Shahrukh Khan in the \"co-acting\" graph. That is, Shahrukh Khan has Shahrukh number 0; all actors who acted in the same film as Shahrukh have Shahrukh number 1; all actors who acted in the same film as some actor with Shahrukh number 1 have Shahrukh number 2, etc. Return all actors whose Shahrukh number is 2."
      ]
    },
    {
      "cell_type": "code",
      "metadata": {
        "id": "3FnJ_19z23ub",
        "colab": {
          "base_uri": "https://localhost:8080/"
        },
        "outputId": "240a6f2e-d174-4c1f-8e16-31eb8fb336f1"
      },
      "source": [
        "\n",
        "def grader_9a(q9a):\n",
        "    q9a_results  = pd.read_sql_query(q9a,conn)\n",
        "    print(q9a_results.head(10))\n",
        "    print(q9a_results.shape)\n",
        "    assert (q9a_results.shape == (2382, 1))\n",
        "\n",
        "query9a = \"\"\" \n",
        "            SELECT DISTINCT TRIM(PID) S1_PID \n",
        "              FROM M_Cast \n",
        "              WHERE MID IN \n",
        "                  (SELECT MID FROM M_Cast c \n",
        "                  WHERE TRIM(c.PID) \n",
        "                  IN (SELECT PID FROM Person \n",
        "                      WHERE Name = \" Shah Rukh Khan\")) \n",
        "              EXCEPT \n",
        "                  SELECT PID \n",
        "                  FROM Person \n",
        "                  WHERE Name = \" Shah Rukh Khan\"\n",
        "          \"\"\"\n",
        "grader_9a(query9a)\n",
        "# using the above query, you can write the answer to the given question\n",
        "\n",
        "# selecting actors who acted with srk (S1)\n",
        "# selecting all movies where S1 actors acted, this forms S2 movies list\n",
        "# selecting all actors who acted in S2 movies, this gives us S2 actors along with S1 actors\n",
        "# removing S1 actors from the combined list of S1 & S2 actors, so that we get only S2 actors"
      ],
      "execution_count": 21,
      "outputs": [
        {
          "output_type": "stream",
          "name": "stdout",
          "text": [
            "      S1_PID\n",
            "0  nm0000818\n",
            "1  nm0000821\n",
            "2  nm0001934\n",
            "3  nm0002043\n",
            "4  nm0004109\n",
            "5  nm0004334\n",
            "6  nm0004335\n",
            "7  nm0004363\n",
            "8  nm0004418\n",
            "9  nm0004429\n",
            "(2382, 1)\n"
          ]
        }
      ]
    },
    {
      "cell_type": "code",
      "metadata": {
        "id": "5o6imc82E_JS",
        "colab": {
          "base_uri": "https://localhost:8080/"
        },
        "outputId": "2fabe327-84bd-4d12-98d7-4a7ce4ef981d"
      },
      "source": [
        "\n",
        "def grader_9(q9):\n",
        "    q9_results  = pd.read_sql_query(q9,conn)\n",
        "    print(q9_results.head(10))\n",
        "    print(q9_results.shape)\n",
        "    assert (q9_results.shape == (25698, 1))\n",
        "\n",
        "query9 = \"\"\" \n",
        "        SELECT P.Name FROM Person P WHERE TRIM(P.PID) IN \n",
        "        (SELECT DISTINCT TRIM(M_C.PID) FROM M_Cast M_C\n",
        "        WHERE M_C.MID IN \n",
        "        (SELECT DISTINCT M_C.MID FROM M_Cast M_C WHERE TRIM(M_C.PID) IN\n",
        "        (SELECT TRIM(M_C.PID) FROM M_Cast M_C WHERE M_C.MID IN \n",
        "        (SELECT DISTINCT M_C.MID FROM M_Cast M_C JOIN Person P ON TRIM(M_C.PID)=TRIM(P.PID)\n",
        "        WHERE Trim(P.Name) = 'Shah Rukh Khan')) AND M_C.MID NOT IN \n",
        "        (SELECT M_C.MID FROM M_Cast M_C JOIN Person P ON TRIM(M_C.PID)=TRIM(P.PID)\n",
        "        WHERE Trim(P.Name) = 'Shah Rukh Khan')) AND TRIM(M_C.PID) NOT IN \n",
        "        (SELECT TRIM(M_C.PID) FROM M_Cast M_C WHERE M_C.MID IN\n",
        "        (SELECT DISTINCT M_C.MID FROM M_Cast M_C \n",
        "        JOIN Person P ON TRIM(M_C.PID)=TRIM(P.PID) \n",
        "        WHERE Trim(P.Name) = 'Shah Rukh Khan')))\n",
        "\n",
        "        \"\"\"\n",
        "grader_9(query9)"
      ],
      "execution_count": 22,
      "outputs": [
        {
          "output_type": "stream",
          "name": "stdout",
          "text": [
            "                     Name\n",
            "0            Freida Pinto\n",
            "1             Rohan Chand\n",
            "2            Damian Young\n",
            "3         Waris Ahluwalia\n",
            "4   Caroline Christl Long\n",
            "5           Rajeev Pahuja\n",
            "6       Michelle Santiago\n",
            "7         Alicia Vikander\n",
            "8            Dominic West\n",
            "9          Walton Goggins\n",
            "(25698, 1)\n"
          ]
        }
      ]
    }
  ]
}